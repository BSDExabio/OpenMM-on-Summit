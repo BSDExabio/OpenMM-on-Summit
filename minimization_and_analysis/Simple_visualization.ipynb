{
 "cells": [
  {
   "cell_type": "code",
   "execution_count": 2,
   "id": "fc8d1cd5-ee84-4e85-853e-fbf9cf776a80",
   "metadata": {},
   "outputs": [
    {
     "data": {
      "text/plain": [
       "'/gpfs/alpine/bif135/proj-shared/rbd_work/dask_testing/Min_and_analysis/as_clean_as_it_gets'"
      ]
     },
     "execution_count": 2,
     "metadata": {},
     "output_type": "execute_result"
    }
   ],
   "source": [
    "pwd"
   ]
  },
  {
   "cell_type": "code",
   "execution_count": 55,
   "id": "03b89486-7805-41a5-a37b-6834c00a76c5",
   "metadata": {},
   "outputs": [],
   "source": [
    "import matplotlib.pyplot as plt\n",
    "import matplotlib as mpl\n",
    "from matplotlib.collections import PatchCollection\n",
    "from matplotlib.patches import Rectangle\n",
    "from matplotlib import cm\n",
    "import itertools\n",
    "import numpy as np\n",
    "import pandas\n",
    "from datetime import datetime\n",
    "import copy\n",
    "from pathlib import Path"
   ]
  },
  {
   "cell_type": "code",
   "execution_count": 4,
   "id": "2f86bf05-04cf-44fe-a483-4fa7c89086c9",
   "metadata": {},
   "outputs": [],
   "source": [
    "temp_dict = {'batch_start': 0,\n",
    "             'batch_end': 0, \n",
    "             'client_start': 0,\n",
    "             'client_end': 0, \n",
    "             'total_time': 0., \n",
    "             'client_start_overhead': [], \n",
    "             'worker_between_overhead': [], \n",
    "             'worker_idle_times': [],\n",
    "             'stop_overhead': 0}"
   ]
  },
  {
   "cell_type": "code",
   "execution_count": 5,
   "id": "de75baa1-a926-4716-a881-7527e9ef0020",
   "metadata": {},
   "outputs": [],
   "source": [
    "node_dict = {}"
   ]
  },
  {
   "cell_type": "code",
   "execution_count": 11,
   "id": "5b42d940-c469-4215-865d-d5c06b655c69",
   "metadata": {},
   "outputs": [
    {
     "name": "stdout",
     "output_type": "stream",
     "text": [
      "1660814796.0\n",
      "1660822012.0\n"
     ]
    }
   ],
   "source": [
    "subdir = 's_divinum_64nodes'\n",
    "node_dict[subdir] = copy.deepcopy(temp_dict)\n",
    "\n",
    "start_time   = 'Thu Aug 18 05:26:36 EDT 2022'\n",
    "end_time     = 'Thu Aug 18 07:26:52 EDT 2022'\n",
    "#client_start = 1660753705.9200435\n",
    "#client_end   = 1660753772.1873257\n",
    "\n",
    "st = datetime.strptime(start_time, \"%a %b %d %H:%M:%S %Z %Y\")\n",
    "et = datetime.strptime(end_time,   \"%a %b %d %H:%M:%S %Z %Y\")\n",
    "total_time = (et - st).total_seconds()\n",
    "print(st.timestamp())\n",
    "print(et.timestamp())\n",
    "node_dict[subdir]['batch_start'] = 0\n",
    "node_dict[subdir]['batch_end'] = et.timestamp() - st.timestamp()\n",
    "node_dict[subdir]['client_start'] = 15\n",
    "node_dict[subdir]['client_end'] = et.timestamp() - st.timestamp()"
   ]
  },
  {
   "cell_type": "code",
   "execution_count": 12,
   "id": "45d0f4a7-4d8b-4469-af60-c1bb080a7900",
   "metadata": {},
   "outputs": [
    {
     "name": "stdout",
     "output_type": "stream",
     "text": [
      "2048 384\n",
      "[7216.0, 7216.0, 5786.096814632416]\n"
     ]
    }
   ],
   "source": [
    "df = pandas.read_csv(f'{subdir}/timings.csv', sep=',')\n",
    "df['start_time'] -= st.timestamp()\n",
    "df['stop_time']  -= st.timestamp()\n",
    "df = df.sort_values(by = ['start_time'])\n",
    "\n",
    "preprocessing_tasks = df[df['task'] == 'preprocessing']\n",
    "processing_tasks = df[df['task'] == 'processing']\n",
    "postprocessing_tasks = df[df['task'] == 'postprocessing']\n",
    "\n",
    "cpu_workers = list(set(preprocessing_tasks['workerID']))\n",
    "gpu_workers = list(set(processing_tasks['workerID']))\n",
    "print(len(cpu_workers),len(gpu_workers))\n",
    "\n",
    "cpu_worker_client_startup_overheads = []\n",
    "cpu_worker_between_overheads = []\n",
    "cpu_worker_idle_times = []\n",
    "for cpu_worker in cpu_workers:\n",
    "    cpu_worker_tasks = df[df['workerID'] == cpu_worker]\n",
    "    a = np.min(cpu_worker_tasks['start_time']) - node_dict[subdir]['client_start']\n",
    "    b = node_dict[subdir]['client_end'] - np.max(cpu_worker_tasks['stop_time'])\n",
    "    cpu_worker_client_startup_overheads.append(a)\n",
    "    cpu_worker_idle_times.append(b)\n",
    "    between_time = 0\n",
    "    for i in range(len(cpu_worker_tasks)-1):\n",
    "        between_time += cpu_worker_tasks.iloc[i+1]['start_time'] - cpu_worker_tasks.iloc[i]['stop_time']\n",
    "    cpu_worker_between_overheads.append(between_time)\n",
    "    #print(a,b,between_time)\n",
    "        \n",
    "node_dict[subdir]['client_start_overhead'].append(cpu_worker_client_startup_overheads)\n",
    "node_dict[subdir]['worker_idle_times'].append(cpu_worker_idle_times)\n",
    "node_dict[subdir]['worker_between_overhead'].append(cpu_worker_between_overheads)\n",
    "\n",
    "gpu_worker_client_startup_overheads = []\n",
    "gpu_worker_between_overheads = []\n",
    "gpu_worker_idle_times = []\n",
    "for gpu_worker in gpu_workers:\n",
    "    gpu_worker_tasks = df[df['workerID'] == gpu_worker]\n",
    "    a = np.min(gpu_worker_tasks['start_time']) - node_dict[subdir]['client_start']\n",
    "    b = node_dict[subdir]['client_end'] - np.max(gpu_worker_tasks['stop_time'])\n",
    "    gpu_worker_client_startup_overheads.append(a)\n",
    "    gpu_worker_idle_times.append(b)\n",
    "    between_time = 0\n",
    "    for i in range(len(gpu_worker_tasks)-1):\n",
    "        between_time += gpu_worker_tasks.iloc[i+1]['start_time'] - gpu_worker_tasks.iloc[i]['stop_time']\n",
    "    gpu_worker_between_overheads.append(between_time)\n",
    "    #print(a,b,between_time)\n",
    "    \n",
    "node_dict[subdir]['client_start_overhead'].append(gpu_worker_client_startup_overheads)\n",
    "node_dict[subdir]['worker_idle_times'].append(gpu_worker_idle_times)\n",
    "node_dict[subdir]['worker_between_overhead'].append(gpu_worker_between_overheads)\n",
    "\n",
    "print([node_dict[subdir]['batch_end'],node_dict[subdir]['client_end'],np.max(df['stop_time'])])\n",
    "total_time = np.max([node_dict[subdir]['batch_end'],node_dict[subdir]['client_end'],np.max(df['stop_time'])])\n",
    "node_dict[subdir]['total_time'] = total_time\n",
    "node_dict[subdir]['stop_overhead'] = total_time - np.max(df['stop_time'])\n",
    "#preprocessing_dt = df['stop_time'] - df['start_time'] if df['task'] == 'preprocessing'"
   ]
  },
  {
   "cell_type": "code",
   "execution_count": 13,
   "id": "33e499a7-c9b8-42aa-8881-34a896602704",
   "metadata": {},
   "outputs": [
    {
     "name": "stdout",
     "output_type": "stream",
     "text": [
      "2048\n",
      "2432\n"
     ]
    }
   ],
   "source": [
    "worker_dict = {}\n",
    "count = 0\n",
    "for worker in preprocessing_tasks.iloc:\n",
    "    if worker['workerID'] not in worker_dict.keys():\n",
    "        worker_dict[worker['workerID']] = count\n",
    "        count += 1\n",
    "#print(worker_dict)\n",
    "print(count)\n",
    "\n",
    "for worker in processing_tasks.iloc:\n",
    "    if worker['workerID'] not in worker_dict.keys():\n",
    "        worker_dict[worker['workerID']] = count\n",
    "        count += 1\n",
    "#print(worker_dict)\n",
    "print(count)\n",
    "\n",
    "#idx = np.argsort(np.array([task[1] for task in gpu_output]))\n",
    "#print(idx)\n",
    "#for i,elem_id in enumerate(idx):\n",
    "#    worker = gpu_output[elem_id]\n",
    "#    if worker[0] not in worker_dict.keys():\n",
    "#        worker_dict[worker[0]] = i + count\n",
    "\n",
    "#print(worker_dict.items())"
   ]
  },
  {
   "cell_type": "code",
   "execution_count": 14,
   "id": "f03e6886-289c-41b8-96df-46019f7bfd10",
   "metadata": {},
   "outputs": [
    {
     "data": {
      "image/png": "[encoded data removed]",
      "text/plain": [
       "<Figure size 576x720 with 1 Axes>"
      ]
     },
     "metadata": {
      "needs_background": "light"
     },
     "output_type": "display_data"
    }
   ],
   "source": [
    "colormap = cm.Dark2.colors\n",
    "figure = plt.figure(figsize=(8,10))\n",
    "ax = plt.gca()\n",
    "#fig, ax = plt.subplots(1)\n",
    "ax.plot([0,0],[0,count+1],'k--',zorder=3)\n",
    "ax.plot([node_dict[subdir]['client_start'],node_dict[subdir]['client_start']],[0,count+1],'r-',zorder=3)\n",
    "ax.plot([total_time,total_time],[0,count+1],'r-',zorder=3)\n",
    "\n",
    "for task in df.iloc:\n",
    "    worker_id = worker_dict[task['workerID']]\n",
    "    if task['task'] == 'preprocessing':\n",
    "        facecolor = 'xkcd:green'\n",
    "    elif task['task'] == 'processing':\n",
    "        facecolor = 'xkcd:purple'\n",
    "    elif task['task'] == 'postprocessing':\n",
    "        facecolor = 'xkcd:orange'\n",
    "    task_rect = Rectangle((task['start_time'], worker_id + 0.6), # xy\n",
    "                           task['stop_time']-task['start_time'], # width\n",
    "                           0.8, # height\n",
    "                           facecolor = facecolor,\n",
    "                           alpha = 0.75, edgecolor = 'xkcd:black', zorder = 3)\n",
    "    ax.add_patch(task_rect)\n",
    "\n",
    "ax.set_ylim((0.,count+1))\n",
    "#ax.set_xlim((-1.,100))\n",
    "ax.set_ylabel('Worker Index',size=14)\n",
    "ax.set_xlabel('Time (sec)',size=14)\n",
    "plt.grid(b=True,which='major',axis='both',color='#808080',linestyle='--',alpha=0.75,zorder=1)\n",
    "plt.savefig(f'{subdir}/worker_timeline.png',dpi=600,transparent=True)\n",
    "plt.show()\n",
    "plt.close()"
   ]
  },
  {
   "cell_type": "code",
   "execution_count": 15,
   "id": "5f417ab7-2d20-4499-9a06-ab8cdc51edb2",
   "metadata": {},
   "outputs": [
    {
     "name": "stdout",
     "output_type": "stream",
     "text": [
      "dict_keys(['s_divinum_64nodes'])\n",
      "dict_keys(['batch_start', 'batch_end', 'client_start', 'client_end', 'total_time', 'client_start_overhead', 'worker_between_overhead', 'worker_idle_times', 'stop_overhead'])\n",
      "0\n",
      "7216.0\n",
      "15\n",
      "7216.0\n",
      "7216.0\n",
      "141.5084923208924 0.5071069690326961 2048\n",
      "772.676525661101 144.20551446937318 384\n",
      "3530.5260859328555 58.05879318819554 2048\n",
      "1502.2280441491555 1128.2048081761766 384\n",
      "3187.96433263761 55.08692248461825 2048\n",
      "3826.2988802703717 1032.982574374637 384\n",
      "1429.9031853675842\n"
     ]
    }
   ],
   "source": [
    "print(node_dict.keys())\n",
    "print(node_dict[subdir].keys())\n",
    "print(node_dict[subdir]['batch_start'])\n",
    "print(node_dict[subdir]['batch_end'])\n",
    "print(node_dict[subdir]['client_start'])\n",
    "print(node_dict[subdir]['client_end'])\n",
    "print(node_dict[subdir]['total_time'])\n",
    "for i in node_dict[subdir]['client_start_overhead']:\n",
    "    print(np.mean(i),np.std(i),len(i))\n",
    "for i in node_dict[subdir]['worker_between_overhead']:\n",
    "    print(np.mean(i),np.std(i),len(i))\n",
    "for i in node_dict[subdir]['worker_idle_times']:\n",
    "    print(np.mean(i),np.std(i),len(i))\n",
    "print(node_dict[subdir]['stop_overhead'])"
   ]
  },
  {
   "cell_type": "code",
   "execution_count": 53,
   "id": "3f325b11-9289-44b6-86a8-3971bbd4cf9e",
   "metadata": {},
   "outputs": [
    {
     "name": "stdout",
     "output_type": "stream",
     "text": [
      "26400\n",
      "[25240, 25187, 74866, 25804, 25253, 25618, 25270, 25438, 25754, 25307, 26167, 25361, 25107, 35435, 29975, 25740, 25388, 26400, 26567, 25375, 25413, 25406, 26784, 26570, 26238]\n",
      "/gpfs/alpine/bif135/proj-shared/rbd_work/dask_testing/Min_and_analysis/as_clean_as_it_gets/s_divinum_64nodes/Sphm18G066000.1\n"
     ]
    }
   ],
   "source": [
    "print(np.argmax(df['stop_time'] - df['start_time']))\n",
    "idx = list(np.argpartition(df['stop_time'] - df['start_time'],-25)[-25:])\n",
    "print(idx)\n",
    "print(df.iloc[26400]['file_path'])"
   ]
  },
  {
   "cell_type": "code",
   "execution_count": 38,
   "id": "2df06176-2f9c-4a76-9d6c-4201d77e89f5",
   "metadata": {},
   "outputs": [
    {
     "data": {
      "text/plain": [
       "30186    1352.195699\n",
       "31420    1377.828782\n",
       "75396    1423.731130\n",
       "34881    1481.101740\n",
       "32991    1539.810585\n",
       "33717    1514.230983\n",
       "32454    1489.780512\n",
       "36823    1611.683829\n",
       "47778    2436.957844\n",
       "35976    1824.830276\n",
       "51485    2540.194563\n",
       "37336    1970.234792\n",
       "61281    3126.687743\n",
       "43863    1653.427025\n",
       "40513    1628.093851\n",
       "36394    1730.018831\n",
       "75394    4041.376955\n",
       "75398    4832.908261\n",
       "66394    3010.616530\n",
       "38843    1992.440478\n",
       "39263    2106.699782\n",
       "36816    1892.845427\n",
       "41025    1924.649790\n",
       "37035    1673.069716\n",
       "40805    2006.393857\n",
       "dtype: float64"
      ]
     },
     "execution_count": 38,
     "metadata": {},
     "output_type": "execute_result"
    }
   ],
   "source": [
    "df.iloc[idx]['stop_time'] - df.iloc[idx]['start_time']"
   ]
  },
  {
   "cell_type": "code",
   "execution_count": 50,
   "id": "f4b23fef-2398-45aa-9661-74764fc98607",
   "metadata": {},
   "outputs": [
    {
     "data": {
      "text/plain": [
       "(-1.0, 900.0)"
      ]
     },
     "execution_count": 50,
     "metadata": {},
     "output_type": "execute_result"
    },
    {
     "data": {
      "image/png": "[encoded data removed]",
      "text/plain": [
       "<Figure size 432x288 with 1 Axes>"
      ]
     },
     "metadata": {
      "needs_background": "light"
     },
     "output_type": "display_data"
    }
   ],
   "source": [
    "results = plt.hist(df['stop_time'] - df['start_time'],bins=1000)\n",
    "plt.ylim((0,10))\n",
    "plt.xlim((-1,900))"
   ]
  },
  {
   "cell_type": "code",
   "execution_count": 57,
   "id": "05a355c2-6df6-40bc-b6ec-5b875e8d129f",
   "metadata": {},
   "outputs": [
    {
     "name": "stdout",
     "output_type": "stream",
     "text": [
      "151\n"
     ]
    }
   ],
   "source": [
    "with open('remove_structures.lst','w') as lst_file:\n",
    "    system_list = []\n",
    "    for task in df.iloc:\n",
    "        if task['stop_time'] - task['start_time'] > 500.:\n",
    "            system = Path(task['file_path']).name\n",
    "            system_list.append(system)\n",
    "    system_list = list(set(system_list))\n",
    "    print(len(system_list))\n",
    "    for system in system_list:\n",
    "        lst_file.write(f'{system}\\n')"
   ]
  },
  {
   "cell_type": "code",
   "execution_count": 58,
   "id": "8963591a-cef6-4e17-b7f8-392f1cb753e7",
   "metadata": {},
   "outputs": [
    {
     "name": "stdout",
     "output_type": "stream",
     "text": [
      "removing /gpfs/alpine/bif135/world-shared/species/smagellanicum/af_mod/Sphm15G021300.1/model_1_ptm_20211001_576771.pdb    1542\n",
      "\n",
      "removing /gpfs/alpine/bif135/world-shared/species/smagellanicum/af_mod/Sphm13G078700.1/model_1_ptm_20211001_451456.pdb    1527\n",
      "\n",
      "removing /gpfs/alpine/bif135/world-shared/species/smagellanicum/af_mod/Sphm10G076600.1/model_1_ptm_20211002_219353.pdb    2318\n",
      "\n",
      "removing /gpfs/alpine/bif135/world-shared/species/smagellanicum/af_mod/Sphm01G020800.1/model_2_ptm_20210930_278748.pdb    1833\n",
      "\n",
      "removing /gpfs/alpine/bif135/world-shared/species/smagellanicum/af_mod/Sphm12G060200.1/model_1_ptm_20210930_226721.pdb    2173\n",
      "\n",
      "removing /gpfs/alpine/bif135/world-shared/species/smagellanicum/af_mod/Sphm04G114900.1/model_3_ptm_20210924_504779.pdb    1394\n",
      "\n",
      "removing /gpfs/alpine/bif135/world-shared/species/smagellanicum/af_mod/Sphm13G060400.1/model_1_ptm_20210930_331580.pdb    2174\n",
      "\n",
      "removing /gpfs/alpine/bif135/world-shared/species/smagellanicum/af_mod/Sphm02G088100.1/model_3_ptm_20210930_864222.pdb    1752\n",
      "\n",
      "removing /gpfs/alpine/bif135/world-shared/species/smagellanicum/af_mod/Sphm18G025400.1/model_1_ptm_20210930_857359.pdb    1602\n",
      "\n",
      "removing /gpfs/alpine/bif135/world-shared/species/smagellanicum/af_mod/Sphm02G155200.1/model_2_ptm_20210924_184106.pdb    1033\n",
      "\n",
      "removing /gpfs/alpine/bif135/world-shared/species/smagellanicum/af_mod/Sphm05G078100.1/model_3_ptm_20210930_228604.pdb    2117\n",
      "\n",
      "removing /gpfs/alpine/bif135/world-shared/species/smagellanicum/af_mod/Sphm09G021700.1/model_1_ptm_20210930_926592.pdb    2060\n",
      "\n",
      "removing /gpfs/alpine/bif135/world-shared/species/smagellanicum/af_mod/Sphm15G050900.1/model_1_ptm_20210930_892339.pdb    1907\n",
      "\n",
      "removing /gpfs/alpine/bif135/world-shared/species/smagellanicum/af_mod/Sphm18G077900.1/model_1_ptm_20210930_867318.pdb    2031\n",
      "\n",
      "removing /gpfs/alpine/bif135/world-shared/species/smagellanicum/af_mod/Sphm08G017900.1/model_1_ptm_20211002_555002.pdb    1523\n",
      "\n",
      "removing /gpfs/alpine/bif135/world-shared/species/smagellanicum/af_mod/Sphm03G116800.1/model_1_ptm_20210930_841009.pdb    1644\n",
      "\n",
      "removing /gpfs/alpine/bif135/world-shared/species/smagellanicum/af_mod/Sphm16G029200.1/model_1_ptm_20210930_442311.pdb    2094\n",
      "\n",
      "removing /gpfs/alpine/bif135/world-shared/species/smagellanicum/af_mod/Sphm17G104700.1/model_1_ptm_20210930_024027.pdb    1728\n",
      "\n",
      "removing /gpfs/alpine/bif135/world-shared/species/smagellanicum/af_mod/Sphm03G070500.1/model_1_ptm_20211001_968051.pdb    1610\n",
      "\n",
      "removing /gpfs/alpine/bif135/world-shared/species/smagellanicum/af_mod/Sphm06G106500.1/model_1_ptm_20210930_089643.pdb    1850\n",
      "\n",
      "removing /gpfs/alpine/bif135/world-shared/species/smagellanicum/af_mod/Sphm05G096600.1/model_1_ptm_20210930_614466.pdb    2061\n",
      "\n",
      "removing /gpfs/alpine/bif135/world-shared/species/smagellanicum/af_mod/Sphm11G072200.1/model_1_ptm_20210924_016722.pdb    1381\n",
      "\n",
      "removing /gpfs/alpine/bif135/world-shared/species/smagellanicum/af_mod/Sphm05G018400.1/model_1_ptm_20210929_957007.pdb    2488\n",
      "\n",
      "removing /gpfs/alpine/bif135/world-shared/species/smagellanicum/af_mod/Sphm01G033800.1/model_1_ptm_20211001_082940.pdb    1548\n",
      "\n",
      "removing /gpfs/alpine/bif135/world-shared/species/smagellanicum/af_mod/Sphm03G099000.1/model_1_ptm_20210930_345977.pdb    1730\n",
      "\n",
      "removing /gpfs/alpine/bif135/world-shared/species/smagellanicum/af_mod/Sphm01G044300.1/model_5_ptm_20210924_397508.pdb    1318\n",
      "\n",
      "removing /gpfs/alpine/bif135/world-shared/species/smagellanicum/af_mod/Sphm01G169700.1/model_3_ptm_20210930_394672.pdb    2175\n",
      "\n",
      "removing /gpfs/alpine/bif135/world-shared/species/smagellanicum/af_mod/Sphm04G023000.1/model_1_ptm_20210930_772711.pdb    2253\n",
      "\n",
      "removing /gpfs/alpine/bif135/world-shared/species/smagellanicum/af_mod/Sphm18G008600.1/model_1_ptm_20210930_523441.pdb    2066\n",
      "\n",
      "removing /gpfs/alpine/bif135/world-shared/species/smagellanicum/af_mod/Sphm08G023100.1/model_1_ptm_20210924_865339.pdb    938\n",
      "\n",
      "removing /gpfs/alpine/bif135/world-shared/species/smagellanicum/af_mod/Sphm17G016700.1/model_1_ptm_20210930_157155.pdb    1796\n",
      "\n",
      "removing /gpfs/alpine/bif135/world-shared/species/smagellanicum/af_mod/Sphm02G045200.1/model_5_ptm_20210924_824986.pdb    678\n",
      "\n",
      "removing /gpfs/alpine/bif135/world-shared/species/smagellanicum/af_mod/Sphm07G082900.1/model_1_ptm_20210930_753773.pdb    1745\n",
      "\n",
      "removing /gpfs/alpine/bif135/world-shared/species/smagellanicum/af_mod/Sphm17G044900.1/model_1_ptm_20210930_099454.pdb    2196\n",
      "\n",
      "removing /gpfs/alpine/bif135/world-shared/species/smagellanicum/af_mod/Sphm19G066100.1/model_1_ptm_20211001_593119.pdb    1567\n",
      "\n",
      "removing /gpfs/alpine/bif135/world-shared/species/smagellanicum/af_mod/Sphm10G062200.1/model_1_ptm_20210930_890108.pdb    1954\n",
      "\n",
      "removing /gpfs/alpine/bif135/world-shared/species/smagellanicum/af_mod/Sphm18G025000.1/model_1_ptm_20210930_960880.pdb    1822\n",
      "\n",
      "removing /gpfs/alpine/bif135/world-shared/species/smagellanicum/af_mod/Sphm02G099500.1/model_2_ptm_20211002_747726.pdb    1879\n",
      "\n",
      "removing /gpfs/alpine/bif135/world-shared/species/smagellanicum/af_mod/Sphm06G071800.1/model_1_ptm_20210924_809261.pdb    1452\n",
      "\n",
      "removing /gpfs/alpine/bif135/world-shared/species/smagellanicum/af_mod/Sphm05G078200.1/model_1_ptm_20210930_317816.pdb    2095\n",
      "\n",
      "removing /gpfs/alpine/bif135/world-shared/species/smagellanicum/af_mod/Sphm09G055000.1/model_1_ptm_20210930_859552.pdb    1873\n",
      "\n",
      "removing /gpfs/alpine/bif135/world-shared/species/smagellanicum/af_mod/Sphm18G043100.1/model_1_ptm_20210930_868961.pdb    2151\n",
      "\n",
      "removing /gpfs/alpine/bif135/world-shared/species/smagellanicum/af_mod/Sphm01G043000.1/model_5_ptm_20210924_044456.pdb    969\n",
      "\n",
      "removing /gpfs/alpine/bif135/world-shared/species/smagellanicum/af_mod/Sphm18G086800.1/model_1_ptm_20210930_874613.pdb    1083\n",
      "\n",
      "removing /gpfs/alpine/bif135/world-shared/species/smagellanicum/af_mod/Sphm02G006500.1/model_1_ptm_20210930_905300.pdb    1886\n",
      "\n",
      "removing /gpfs/alpine/bif135/world-shared/species/smagellanicum/af_mod/Sphm15G019100.1/model_1_ptm_20210930_069554.pdb    2364\n",
      "\n",
      "removing /gpfs/alpine/bif135/world-shared/species/smagellanicum/af_mod/Sphm10G106000.1/model_1_ptm_20211002_285293.pdb    1670\n",
      "\n",
      "removing /gpfs/alpine/bif135/world-shared/species/smagellanicum/af_mod/Sphm15G057300.1/model_1_ptm_20210930_232146.pdb    1960\n",
      "\n",
      "removing /gpfs/alpine/bif135/world-shared/species/smagellanicum/af_mod/Sphm17G010300.1/model_1_ptm_20211002_505700.pdb    1515\n",
      "\n",
      "removing /gpfs/alpine/bif135/world-shared/species/smagellanicum/af_mod/Sphm13G073900.1/model_1_ptm_20211002_743152.pdb    1581\n",
      "\n",
      "removing /gpfs/alpine/bif135/world-shared/species/smagellanicum/af_mod/Sphm07G071400.1/model_1_ptm_20210930_099550.pdb    2076\n",
      "\n",
      "removing /gpfs/alpine/bif135/world-shared/species/smagellanicum/af_mod/Sphm02G087600.1/model_1_ptm_20211001_557720.pdb    1528\n",
      "\n",
      "removing /gpfs/alpine/bif135/world-shared/species/smagellanicum/af_mod/Sphm14G009100.1/model_1_ptm_20210930_908583.pdb    2288\n",
      "\n",
      "removing /gpfs/alpine/bif135/world-shared/species/smagellanicum/af_mod/Sphm12G067500.1/model_1_ptm_20210930_638847.pdb    1686\n",
      "\n",
      "removing /gpfs/alpine/bif135/world-shared/species/smagellanicum/af_mod/Sphm02G094300.1/model_3_ptm_20210930_326597.pdb    1757\n",
      "\n",
      "removing /gpfs/alpine/bif135/world-shared/species/smagellanicum/af_mod/Sphm12G069000.1/model_1_ptm_20210924_093586.pdb    1454\n",
      "\n",
      "removing /gpfs/alpine/bif135/world-shared/species/smagellanicum/af_mod/Sphm20G014700.1/model_1_ptm_20210924_869308.pdb    1448\n",
      "\n",
      "removing /gpfs/alpine/bif135/world-shared/species/smagellanicum/af_mod/Sphm05G126000.1/model_1_ptm_20210930_859980.pdb    2274\n",
      "\n",
      "removing /gpfs/alpine/bif135/world-shared/species/smagellanicum/af_mod/Sphm18G088400.1/model_1_ptm_20210930_630980.pdb    1963\n",
      "\n",
      "removing /gpfs/alpine/bif135/world-shared/species/smagellanicum/af_mod/Sphm11G063800.1/model_1_ptm_20210930_070318.pdb    1931\n",
      "\n",
      "removing /gpfs/alpine/bif135/world-shared/species/smagellanicum/af_mod/Sphm06G091300.1/model_1_ptm_20211002_640752.pdb    2334\n",
      "\n",
      "removing /gpfs/alpine/bif135/world-shared/species/smagellanicum/af_mod/Sphm04G099100.1/model_1_ptm_20211002_244900.pdb    1739\n",
      "\n",
      "removing /gpfs/alpine/bif135/world-shared/species/smagellanicum/af_mod/Sphm17G075900.1/model_1_ptm_20211002_432060.pdb    1559\n",
      "\n",
      "removing /gpfs/alpine/bif135/world-shared/species/smagellanicum/af_mod/Sphm09G087000.1/model_4_ptm_20210930_010856.pdb    2233\n",
      "\n",
      "removing /gpfs/alpine/bif135/world-shared/species/smagellanicum/af_mod/Sphm20G000700.1/model_1_ptm_20210930_214950.pdb    1842\n",
      "\n",
      "removing /gpfs/alpine/bif135/world-shared/species/smagellanicum/af_mod/Sphm08G075100.1/model_1_ptm_20210930_471276.pdb    2281\n",
      "\n",
      "removing /gpfs/alpine/bif135/world-shared/species/smagellanicum/af_mod/Sphm05G120700.1/model_1_ptm_20210930_039759.pdb    1787\n",
      "\n",
      "removing /gpfs/alpine/bif135/world-shared/species/smagellanicum/af_mod/Sphm06G090300.1/model_1_ptm_20210930_947885.pdb    2030\n",
      "\n",
      "removing /gpfs/alpine/bif135/world-shared/species/smagellanicum/af_mod/Sphm04G110000.1/model_1_ptm_20211001_150971.pdb    1540\n",
      "\n",
      "removing /gpfs/alpine/bif135/world-shared/species/smagellanicum/af_mod/Sphm01G022600.1/model_5_ptm_20210930_370512.pdb    1988\n",
      "\n",
      "removing /gpfs/alpine/bif135/world-shared/species/smagellanicum/af_mod/Sphm17G040700.1/model_1_ptm_20210930_387445.pdb    2007\n",
      "\n",
      "removing /gpfs/alpine/bif135/world-shared/species/smagellanicum/af_mod/Sphm14G024000.1/model_1_ptm_20210930_425448.pdb    1936\n",
      "\n",
      "removing /gpfs/alpine/bif135/world-shared/species/smagellanicum/af_mod/Sphm03G102200.1/model_1_ptm_20210930_776560.pdb    1850\n",
      "\n",
      "removing /gpfs/alpine/bif135/world-shared/species/smagellanicum/af_mod/Sphm13G005700.1/model_1_ptm_20210924_528713.pdb    1082\n",
      "\n",
      "removing /gpfs/alpine/bif135/world-shared/species/smagellanicum/af_mod/Sphm18G012900.1/model_1_ptm_20211002_284183.pdb    1768\n",
      "\n",
      "removing /gpfs/alpine/bif135/world-shared/species/smagellanicum/af_mod/Sphm16G045900.1/model_1_ptm_20211002_803025.pdb    2299\n",
      "\n",
      "removing /gpfs/alpine/bif135/world-shared/species/smagellanicum/af_mod/Sphm01G100300.1/model_1_ptm_20211001_352437.pdb    1603\n",
      "\n",
      "removing /gpfs/alpine/bif135/world-shared/species/smagellanicum/af_mod/Sphm14G096300.1/model_1_ptm_20211002_671854.pdb    1636\n",
      "\n",
      "removing /gpfs/alpine/bif135/world-shared/species/smagellanicum/af_mod/Sphm15G029300.1/model_1_ptm_20210930_972915.pdb    2336\n",
      "\n",
      "removing /gpfs/alpine/bif135/world-shared/species/smagellanicum/af_mod/Sphm03G128900.1/model_1_ptm_20210924_993349.pdb    1425\n",
      "\n",
      "removing /gpfs/alpine/bif135/world-shared/species/smagellanicum/af_mod/Sphm19G041200.1/model_1_ptm_20211002_257909.pdb    2359\n",
      "\n",
      "removing /gpfs/alpine/bif135/world-shared/species/smagellanicum/af_mod/Sphm10G091100.1/model_3_ptm_20211001_642115.pdb    1817\n",
      "\n",
      "removing /gpfs/alpine/bif135/world-shared/species/smagellanicum/af_mod/Sphm04G022400.1/model_5_ptm_20210924_491110.pdb    1049\n",
      "\n",
      "removing /gpfs/alpine/bif135/world-shared/species/smagellanicum/af_mod/Sphm07G094200.1/model_1_ptm_20210930_288829.pdb    1957\n",
      "\n",
      "removing /gpfs/alpine/bif135/world-shared/species/smagellanicum/af_mod/Sphm18G079200.1/model_5_ptm_20210930_491858.pdb    2083\n",
      "\n",
      "removing /gpfs/alpine/bif135/world-shared/species/smagellanicum/af_mod/Sphm08G106100.1/model_1_ptm_20211001_912097.pdb    1531\n",
      "\n",
      "removing /gpfs/alpine/bif135/world-shared/species/smagellanicum/af_mod/Sphm12G062500.1/model_3_ptm_20210930_639440.pdb    1958\n",
      "\n",
      "removing /gpfs/alpine/bif135/world-shared/species/smagellanicum/af_mod/Sphm03G044200.1/model_3_ptm_20210924_359406.pdb    1454\n",
      "\n",
      "removing /gpfs/alpine/bif135/world-shared/species/smagellanicum/af_mod/Sphm07G085800.1/model_3_ptm_20210930_179273.pdb    2277\n",
      "\n",
      "removing /gpfs/alpine/bif135/world-shared/species/smagellanicum/af_mod/Sphm05G148600.1/model_1_ptm_20210930_977468.pdb    2105\n",
      "\n",
      "removing /gpfs/alpine/bif135/world-shared/species/smagellanicum/af_mod/Sphm07G050100.1/model_1_ptm_20210924_265778.pdb    1067\n",
      "\n",
      "removing /gpfs/alpine/bif135/world-shared/species/smagellanicum/af_mod/Sphm03G133200.1/model_1_ptm_20210930_762405.pdb    2223\n",
      "\n",
      "removing /gpfs/alpine/bif135/world-shared/species/smagellanicum/af_mod/Sphm02G195500.1/model_1_ptm_20211002_935328.pdb    1778\n",
      "\n",
      "removing /gpfs/alpine/bif135/world-shared/species/smagellanicum/af_mod/Sphm02G143700.1/model_1_ptm_20210924_648109.pdb    1277\n",
      "\n",
      "removing /gpfs/alpine/bif135/world-shared/species/smagellanicum/af_mod/Sphm04G078600.1/model_1_ptm_20211001_289140.pdb    1619\n",
      "\n",
      "removing /gpfs/alpine/bif135/world-shared/species/smagellanicum/af_mod/Sphm13G062900.1/model_1_ptm_20211001_478457.pdb    1533\n",
      "\n",
      "removing /gpfs/alpine/bif135/world-shared/species/smagellanicum/af_mod/Sphm07G020600.1/model_1_ptm_20210930_667442.pdb    2172\n",
      "\n",
      "removing /gpfs/alpine/bif135/world-shared/species/smagellanicum/af_mod/Sphm17G036500.1/model_3_ptm_20211002_466308.pdb    1497\n",
      "\n",
      "removing /gpfs/alpine/bif135/world-shared/species/smagellanicum/af_mod/Sphm01G187500.1/model_1_ptm_20211002_419519.pdb    1627\n",
      "\n",
      "removing /gpfs/alpine/bif135/world-shared/species/smagellanicum/af_mod/Sphm15G074900.1/model_1_ptm_20210924_780074.pdb    1401\n",
      "\n",
      "removing /gpfs/alpine/bif135/world-shared/species/smagellanicum/af_mod/Sphm10G079500.1/model_1_ptm_20210930_899663.pdb    1418\n",
      "\n",
      "removing /gpfs/alpine/bif135/world-shared/species/smagellanicum/af_mod/Sphm02G155800.1/model_1_ptm_20211001_830869.pdb    1517\n",
      "\n",
      "removing /gpfs/alpine/bif135/world-shared/species/smagellanicum/af_mod/Sphm11G033300.1/model_1_ptm_20210930_572594.pdb    2050\n",
      "\n",
      "removing /gpfs/alpine/bif135/world-shared/species/smagellanicum/af_mod/Sphm19G013500.1/model_1_ptm_20211002_788675.pdb    1501\n",
      "\n",
      "removing /gpfs/alpine/bif135/world-shared/species/smagellanicum/af_mod/Sphm04G129200.1/model_1_ptm_20210930_580097.pdb    2353\n",
      "\n",
      "removing /gpfs/alpine/bif135/world-shared/species/smagellanicum/af_mod/Sphm17G037800.1/model_5_ptm_20210930_604050.pdb    1873\n",
      "\n",
      "removing /gpfs/alpine/bif135/world-shared/species/smagellanicum/af_mod/Sphm01G196200.1/model_1_ptm_20210930_327037.pdb    1799\n",
      "\n",
      "removing /gpfs/alpine/bif135/world-shared/species/smagellanicum/af_mod/Sphm16G059200.1/model_3_ptm_20210930_480535.pdb    2013\n",
      "\n",
      "removing /gpfs/alpine/bif135/world-shared/species/smagellanicum/af_mod/Sphm18G066000.1/model_5_ptm_20210930_537508.pdb    2034\n",
      "\n",
      "removing /gpfs/alpine/bif135/world-shared/species/smagellanicum/af_mod/Sphm02G125400.1/model_1_ptm_20210930_395450.pdb    1704\n",
      "\n",
      "removing /gpfs/alpine/bif135/world-shared/species/smagellanicum/af_mod/Sphm02G064500.1/model_5_ptm_20210924_798433.pdb    1001\n",
      "\n",
      "removing /gpfs/alpine/bif135/world-shared/species/smagellanicum/af_mod/Sphm04G129800.1/model_2_ptm_20211002_201790.pdb    1540\n",
      "\n",
      "removing /gpfs/alpine/bif135/world-shared/species/smagellanicum/af_mod/Sphm08G144100.1/model_4_ptm_20210930_398591.pdb    2464\n",
      "\n",
      "removing /gpfs/alpine/bif135/world-shared/species/smagellanicum/af_mod/Sphm04G127300.1/model_3_ptm_20211001_467885.pdb    1509\n",
      "\n",
      "removing /gpfs/alpine/bif135/world-shared/species/smagellanicum/af_mod/Sphm19G036000.1/model_5_ptm_20210930_365733.pdb    2463\n",
      "\n",
      "removing /gpfs/alpine/bif135/world-shared/species/smagellanicum/af_mod/Sphm02G034700.1/model_1_ptm_20211002_374223.pdb    1590\n",
      "\n",
      "removing /gpfs/alpine/bif135/world-shared/species/smagellanicum/af_mod/Sphm06G011400.1/model_5_ptm_20210930_377517.pdb    1680\n",
      "\n",
      "removing /gpfs/alpine/bif135/world-shared/species/smagellanicum/af_mod/Sphm13G073400.1/model_1_ptm_20211002_344195.pdb    1784\n",
      "\n",
      "removing /gpfs/alpine/bif135/world-shared/species/smagellanicum/af_mod/Sphm02G135300.1/model_1_ptm_20211002_184498.pdb    2363\n",
      "\n",
      "removing /gpfs/alpine/bif135/world-shared/species/smagellanicum/af_mod/Sphm02G187100.1/model_1_ptm_20210930_530290.pdb    1858\n",
      "\n",
      "removing /gpfs/alpine/bif135/world-shared/species/smagellanicum/af_mod/Sphm09G098900.1/model_1_ptm_20210930_200792.pdb    1727\n",
      "\n",
      "removing /gpfs/alpine/bif135/world-shared/species/smagellanicum/af_mod/Sphm09G026100.1/model_1_ptm_20211001_933385.pdb    1988\n",
      "\n",
      "removing /gpfs/alpine/bif135/world-shared/species/smagellanicum/af_mod/Sphm18G072400.1/model_1_ptm_20210930_745894.pdb    2095\n",
      "\n",
      "removing /gpfs/alpine/bif135/world-shared/species/smagellanicum/af_mod/Sphm18G076100.1/model_1_ptm_20210930_728407.pdb    2096\n",
      "\n",
      "removing /gpfs/alpine/bif135/world-shared/species/smagellanicum/af_mod/Sphm05G149900.1/model_4_ptm_20210924_552424.pdb    819\n",
      "\n",
      "removing /gpfs/alpine/bif135/world-shared/species/smagellanicum/af_mod/Sphm08G107000.1/model_1_ptm_20210930_246907.pdb    1745\n",
      "\n",
      "removing /gpfs/alpine/bif135/world-shared/species/smagellanicum/af_mod/Sphm04G039800.1/model_1_ptm_20211002_507023.pdb    2012\n",
      "\n",
      "removing /gpfs/alpine/bif135/world-shared/species/smagellanicum/af_mod/Sphm08G117800.1/model_2_ptm_20211001_429003.pdb    1558\n",
      "\n",
      "removing /gpfs/alpine/bif135/world-shared/species/smagellanicum/af_mod/Sphm07G089400.1/model_1_ptm_20210930_483480.pdb    1934\n",
      "\n",
      "removing /gpfs/alpine/bif135/world-shared/species/smagellanicum/af_mod/Sphm11G081700.1/model_1_ptm_20210930_389649.pdb    2119\n",
      "\n",
      "removing /gpfs/alpine/bif135/world-shared/species/smagellanicum/af_mod/Sphm06G078000.1/model_1_ptm_20210924_922595.pdb    1192\n",
      "\n",
      "removing /gpfs/alpine/bif135/world-shared/species/smagellanicum/af_mod/Sphm11G062800.1/model_5_ptm_20210930_882412.pdb    2306\n",
      "\n",
      "removing /gpfs/alpine/bif135/world-shared/species/smagellanicum/af_mod/Sphm06G078400.1/model_1_ptm_20210924_456034.pdb    871\n",
      "\n",
      "removing /gpfs/alpine/bif135/world-shared/species/smagellanicum/af_mod/Sphm15G057000.1/model_1_ptm_20210930_869751.pdb    1618\n",
      "\n",
      "removing /gpfs/alpine/bif135/world-shared/species/smagellanicum/af_mod/Sphm08G093200.1/model_1_ptm_20210930_624214.pdb    2461\n",
      "\n",
      "removing /gpfs/alpine/bif135/world-shared/species/smagellanicum/af_mod/Sphm07G045000.1/model_1_ptm_20210930_788182.pdb    2423\n",
      "\n",
      "removing /gpfs/alpine/bif135/world-shared/species/smagellanicum/af_mod/Sphm06G087900.1/model_1_ptm_20210924_742212.pdb    1290\n",
      "\n",
      "removing /gpfs/alpine/bif135/world-shared/species/smagellanicum/af_mod/Sphm02G188900.1/model_1_ptm_20210930_158715.pdb    2156\n",
      "\n",
      "removing /gpfs/alpine/bif135/world-shared/species/smagellanicum/af_mod/Sphm04G012300.1/model_1_ptm_20210924_410564.pdb    1127\n",
      "\n",
      "removing /gpfs/alpine/bif135/world-shared/species/smagellanicum/af_mod/Sphm19G074800.1/model_1_ptm_20211001_669618.pdb    1555\n",
      "\n",
      "removing /gpfs/alpine/bif135/world-shared/species/smagellanicum/af_mod/Sphm05G032300.1/model_2_ptm_20210930_231285.pdb    2373\n",
      "\n",
      "removing /gpfs/alpine/bif135/world-shared/species/smagellanicum/af_mod/Sphm19G078500.1/model_1_ptm_20210930_244860.pdb    2077\n",
      "\n",
      "removing /gpfs/alpine/bif135/world-shared/species/smagellanicum/af_mod/Sphm03G065300.1/model_5_ptm_20210924_226407.pdb    1012\n",
      "\n",
      "removing /gpfs/alpine/bif135/world-shared/species/smagellanicum/af_mod/Sphm07G113600.1/model_1_ptm_20210924_537804.pdb    1289\n",
      "\n",
      "removing /gpfs/alpine/bif135/world-shared/species/smagellanicum/af_mod/Sphm06G103300.1/model_1_ptm_20210930_656085.pdb    1908\n",
      "\n",
      "removing /gpfs/alpine/bif135/world-shared/species/smagellanicum/af_mod/Sphm16G061100.1/model_1_ptm_20210924_664261.pdb    1361\n",
      "\n",
      "removing /gpfs/alpine/bif135/world-shared/species/smagellanicum/af_mod/Sphm02G124200.1/model_1_ptm_20210930_569720.pdb    2076\n",
      "\n",
      "removing /gpfs/alpine/bif135/world-shared/species/smagellanicum/af_mod/Sphm14G081900.1/model_1_ptm_20210924_857748.pdb    1247\n",
      "\n",
      "removing /gpfs/alpine/bif135/world-shared/species/smagellanicum/af_mod/Sphm08G007300.1/model_3_ptm_20210924_735434.pdb    871\n",
      "\n",
      "removing /gpfs/alpine/bif135/world-shared/species/smagellanicum/af_mod/Sphm02G061300.1/model_3_ptm_20210930_839964.pdb    2060\n",
      "\n",
      "removing /gpfs/alpine/bif135/world-shared/species/smagellanicum/af_mod/Sphm04G109200.1/model_5_ptm_20210930_952563.pdb    2301\n",
      "\n"
     ]
    }
   ],
   "source": [
    "with open('s_divinum_af_structures.lst','r') as full_list, open('s_divinum_af_structures_minus_151.lst','w') as out_list:\n",
    "    for line in full_list:\n",
    "        system = Path(line.split()[0]).parent.name\n",
    "        if system not in system_list:\n",
    "            out_list.write(line)\n",
    "        else: \n",
    "            print(f'removing {line}')"
   ]
  },
  {
   "cell_type": "code",
   "execution_count": 62,
   "id": "b75195c0-d976-422c-975e-d9d85540192c",
   "metadata": {},
   "outputs": [
    {
     "data": {
      "text/plain": [
       "[PosixPath('subset2_08nodes'),\n",
       " PosixPath('subset2_02nodes'),\n",
       " PosixPath('subset2_01nodes'),\n",
       " PosixPath('subset2_16nodes'),\n",
       " PosixPath('s_divinum_016nodes'),\n",
       " PosixPath('subset2_04nodes')]"
      ]
     },
     "execution_count": 62,
     "metadata": {},
     "output_type": "execute_result"
    }
   ],
   "source": [
    "import glob\n",
    "[Path(f).parent for f in glob.glob('*/timings.csv')]"
   ]
  },
  {
   "cell_type": "code",
   "execution_count": null,
   "id": "2a3e51d9-dd53-427f-b6e2-0323d0fd1916",
   "metadata": {},
   "outputs": [],
   "source": []
  }
 ],
 "metadata": {
  "kernelspec": {
   "display_name": "slate_analysis",
   "language": "python",
   "name": "slate_analysis"
  },
  "language_info": {
   "codemirror_mode": {
    "name": "ipython",
    "version": 3
   },
   "file_extension": ".py",
   "mimetype": "text/x-python",
   "name": "python",
   "nbconvert_exporter": "python",
   "pygments_lexer": "ipython3",
   "version": "3.8.0"
  }
 },
 "nbformat": 4,
 "nbformat_minor": 5
}
